{
 "cells": [
  {
   "cell_type": "code",
   "execution_count": 1,
   "id": "36aad478-db01-4058-9374-673967378293",
   "metadata": {},
   "outputs": [],
   "source": [
    "%%init_spark\n",
    "launcher.num_executors = 4\n",
    "launcher.executor_cores = 2\n",
    "launcher.driver_memory = \"4g\""
   ]
  },
  {
   "cell_type": "markdown",
   "id": "373745f0-513c-4a54-9a34-92e517dcef86",
   "metadata": {},
   "source": [
    "launcher.conf.set(\"spark.sql.catalogImplementation\", \"hive\")"
   ]
  },
  {
   "cell_type": "code",
   "execution_count": 2,
   "id": "c8a355da-8168-437a-96c1-08718e637f14",
   "metadata": {},
   "outputs": [
    {
     "data": {
      "text/plain": [
       "Intitializing Scala interpreter ..."
      ]
     },
     "metadata": {},
     "output_type": "display_data"
    },
    {
     "data": {
      "text/plain": [
       "Spark Web UI available at http://192.168.0.23:4040\n",
       "SparkContext available as 'sc' (version = 3.2.1, master = local[*], app id = local-1675558971623)\n",
       "SparkSession available as 'spark'\n"
      ]
     },
     "metadata": {},
     "output_type": "display_data"
    },
    {
     "data": {
      "text/plain": [
       "import java.nio.file.Files\n",
       "import java.nio.file.Paths\n",
       "import scala.sys.process._\n",
       "CWD: String = /Users/soonbeom/ml/scala-spark\n",
       "dataFile: String = /Users/soonbeom/ml/scala-spark/mini_sparkify_event_data.json.gz\n"
      ]
     },
     "execution_count": 2,
     "metadata": {},
     "output_type": "execute_result"
    }
   ],
   "source": [
    "import java.nio.file.Files\n",
    "import java.nio.file.Paths\n",
    "import scala.sys.process._\n",
    "\n",
    "val CWD = System.getProperty(\"user.dir\")\n",
    "val dataFile = CWD + \"/mini_sparkify_event_data.json.gz\"\n",
    "\n",
    "if (!Files.exists(Paths.get(dataFile))) { \n",
    "    println(\"download file...\")\n",
    "    val output = \"wget https://github.com/gnosia93/spark-on-eks/raw/main/dataset/mini_sparkify_event_data.json.gz\".!! // Captures the output\n",
    "}\n"
   ]
  },
  {
   "cell_type": "code",
   "execution_count": 3,
   "id": "99514369-9a0e-43bf-8e78-b2e15e23e5bc",
   "metadata": {},
   "outputs": [
    {
     "data": {
      "text/plain": [
       "import java.nio.file.Files\n",
       "import java.nio.file.Paths\n",
       "import scala.sys.process._\n",
       "CWD: String = /Users/soonbeom/ml/scala-spark\n",
       "dataFile: String = /Users/soonbeom/ml/scala-spark/mini_sparkify_event_data.json.gz\n"
      ]
     },
     "execution_count": 3,
     "metadata": {},
     "output_type": "execute_result"
    }
   ],
   "source": [
    "import java.nio.file.Files\n",
    "import java.nio.file.Paths\n",
    "import scala.sys.process._\n",
    "\n",
    "val CWD = System.getProperty(\"user.dir\")\n",
    "val dataFile = CWD + \"/mini_sparkify_event_data.json.gz\"\n",
    "\n",
    "if (!Files.exists(Paths.get(dataFile))) { \n",
    "    println(\"download file...\")\n",
    "    val output = \"wget https://github.com/gnosia93/spark-on-eks/raw/main/dataset/mini_sparkify_event_data.json.gz\".!! // Captures the output\n",
    "}\n"
   ]
  },
  {
   "cell_type": "code",
   "execution_count": 4,
   "id": "6ffc9c6e-2d7e-4cf1-a4c8-2748ec85d853",
   "metadata": {},
   "outputs": [
    {
     "data": {
      "text/plain": [
       "import org.apache.spark.sql.SparkSession\n",
       "spark: org.apache.spark.sql.SparkSession = org.apache.spark.sql.SparkSession@6f7d1a2\n",
       "res2: Class[_ <: org.apache.spark.sql.SparkSession] = class org.apache.spark.sql.SparkSession\n"
      ]
     },
     "execution_count": 4,
     "metadata": {},
     "output_type": "execute_result"
    }
   ],
   "source": [
    "import org.apache.spark.sql.SparkSession\n",
    "\n",
    "val spark = SparkSession\n",
    "    .builder()\n",
    "    .appName(\"Sparky Analysis\")\n",
    "    .getOrCreate()\n",
    "\n",
    "spark.getClass()"
   ]
  },
  {
   "cell_type": "code",
   "execution_count": 5,
   "id": "30154831-baae-4f38-b120-e9062bd70fb7",
   "metadata": {},
   "outputs": [
    {
     "name": "stdout",
     "output_type": "stream",
     "text": [
      "root\n",
      " |-- artist: string (nullable = true)\n",
      " |-- auth: string (nullable = true)\n",
      " |-- firstName: string (nullable = true)\n",
      " |-- gender: string (nullable = true)\n",
      " |-- itemInSession: long (nullable = true)\n",
      " |-- lastName: string (nullable = true)\n",
      " |-- length: double (nullable = true)\n",
      " |-- level: string (nullable = true)\n",
      " |-- location: string (nullable = true)\n",
      " |-- method: string (nullable = true)\n",
      " |-- page: string (nullable = true)\n",
      " |-- registration: long (nullable = true)\n",
      " |-- sessionId: long (nullable = true)\n",
      " |-- song: string (nullable = true)\n",
      " |-- status: long (nullable = true)\n",
      " |-- ts: long (nullable = true)\n",
      " |-- userAgent: string (nullable = true)\n",
      " |-- userId: string (nullable = true)\n",
      "\n",
      "row count: 286500\n",
      "+--------------------+---------+---------+------+-------------+--------+---------+-----+--------------------+------+---------------+-------------+---------+--------------------+------+-------------+--------------------+------+\n",
      "|              artist|     auth|firstName|gender|itemInSession|lastName|   length|level|            location|method|           page| registration|sessionId|                song|status|           ts|           userAgent|userId|\n",
      "+--------------------+---------+---------+------+-------------+--------+---------+-----+--------------------+------+---------------+-------------+---------+--------------------+------+-------------+--------------------+------+\n",
      "|      Martha Tilston|Logged In|    Colin|     M|           50| Freeman|277.89016| paid|     Bakersfield, CA|   PUT|       NextSong|1538173362000|       29|           Rockpools|   200|1538352117000|Mozilla/5.0 (Wind...|    30|\n",
      "|    Five Iron Frenzy|Logged In|    Micah|     M|           79|    Long|236.09424| free|Boston-Cambridge-...|   PUT|       NextSong|1538331630000|        8|              Canada|   200|1538352180000|\"Mozilla/5.0 (Win...|     9|\n",
      "|        Adam Lambert|Logged In|    Colin|     M|           51| Freeman| 282.8273| paid|     Bakersfield, CA|   PUT|       NextSong|1538173362000|       29|   Time For Miracles|   200|1538352394000|Mozilla/5.0 (Wind...|    30|\n",
      "|              Enigma|Logged In|    Micah|     M|           80|    Long|262.71302| free|Boston-Cambridge-...|   PUT|       NextSong|1538331630000|        8|Knocking On Forbi...|   200|1538352416000|\"Mozilla/5.0 (Win...|     9|\n",
      "|           Daft Punk|Logged In|    Colin|     M|           52| Freeman|223.60771| paid|     Bakersfield, CA|   PUT|       NextSong|1538173362000|       29|Harder Better Fas...|   200|1538352676000|Mozilla/5.0 (Wind...|    30|\n",
      "|The All-American ...|Logged In|    Micah|     M|           81|    Long|208.29995| free|Boston-Cambridge-...|   PUT|       NextSong|1538331630000|        8|      Don't Leave Me|   200|1538352678000|\"Mozilla/5.0 (Win...|     9|\n",
      "|The Velvet Underg...|Logged In|    Micah|     M|           82|    Long|260.46649| free|Boston-Cambridge-...|   PUT|       NextSong|1538331630000|        8|         Run Run Run|   200|1538352886000|\"Mozilla/5.0 (Win...|     9|\n",
      "|        Starflyer 59|Logged In|    Colin|     M|           53| Freeman|185.44281| paid|     Bakersfield, CA|   PUT|       NextSong|1538173362000|       29|Passengers (Old A...|   200|1538352899000|Mozilla/5.0 (Wind...|    30|\n",
      "|                null|Logged In|    Colin|     M|           54| Freeman|     null| paid|     Bakersfield, CA|   PUT|Add to Playlist|1538173362000|       29|                null|   200|1538352905000|Mozilla/5.0 (Wind...|    30|\n",
      "|            Frumpies|Logged In|    Colin|     M|           55| Freeman|134.47791| paid|     Bakersfield, CA|   PUT|       NextSong|1538173362000|       29|          Fuck Kitty|   200|1538353084000|Mozilla/5.0 (Wind...|    30|\n",
      "+--------------------+---------+---------+------+-------------+--------+---------+-----+--------------------+------+---------------+-------------+---------+--------------------+------+-------------+--------------------+------+\n",
      "only showing top 10 rows\n",
      "\n"
     ]
    },
    {
     "data": {
      "text/plain": [
       "df: org.apache.spark.sql.DataFrame = [artist: string, auth: string ... 16 more fields]\n"
      ]
     },
     "execution_count": 5,
     "metadata": {},
     "output_type": "execute_result"
    }
   ],
   "source": [
    "val df = spark.read.json(\"mini_sparkify_event_data.json.gz\")\n",
    "df.printSchema()\n",
    "println(\"row count: \" + df.count())\n",
    "df.show(10)"
   ]
  },
  {
   "cell_type": "code",
   "execution_count": 6,
   "id": "d94f371e-891a-442a-845c-ea065002b5ad",
   "metadata": {},
   "outputs": [],
   "source": [
    "df.createOrReplaceTempView(\"event_data\")"
   ]
  },
  {
   "cell_type": "code",
   "execution_count": 7,
   "id": "b0638256-e9be-4ab5-a2fd-c795fba52ad2",
   "metadata": {},
   "outputs": [
    {
     "name": "stdout",
     "output_type": "stream",
     "text": [
      "+-------+------------------+-----------------+--------------------+-----------------+------------------+--------------------+\n",
      "|summary|     itemInSession|           length|        registration|        sessionId|            status|                  ts|\n",
      "+-------+------------------+-----------------+--------------------+-----------------+------------------+--------------------+\n",
      "|  count|            286500|           228108|              278154|           286500|            286500|              286500|\n",
      "|   mean|114.41421291448516|249.1171819778458|1.535358834084427...|1041.526554973822|210.05459685863875|1.540956889810483...|\n",
      "| stddev|129.76726201140994|99.23517921058361| 3.291321616327586E9|726.7762634630741| 31.50507848842214|1.5075439608226302E9|\n",
      "|    min|                 0|          0.78322|       1521380675000|                1|               200|       1538352117000|\n",
      "|    max|              1321|       3024.66567|       1543247354000|             2474|               404|       1543799476000|\n",
      "+-------+------------------+-----------------+--------------------+-----------------+------------------+--------------------+\n",
      "\n"
     ]
    }
   ],
   "source": [
    "df.describe(\"itemInSession\", \"length\", \"registration\", \"sessionId\", \"status\", \"ts\").show()"
   ]
  },
  {
   "cell_type": "code",
   "execution_count": 8,
   "id": "f9ac3c77-53b0-4c1b-b754-3fbc2405ea09",
   "metadata": {},
   "outputs": [
    {
     "name": "stdout",
     "output_type": "stream",
     "text": [
      "+--------------------+------+\n",
      "|                page| count|\n",
      "+--------------------+------+\n",
      "|              Cancel|    52|\n",
      "|    Submit Downgrade|    63|\n",
      "|         Thumbs Down|  2546|\n",
      "|                Home| 14457|\n",
      "|           Downgrade|  2055|\n",
      "|         Roll Advert|  3933|\n",
      "|              Logout|  3226|\n",
      "|       Save Settings|   310|\n",
      "|Cancellation Conf...|    52|\n",
      "|               About|   924|\n",
      "| Submit Registration|     5|\n",
      "|            Settings|  1514|\n",
      "|               Login|  3241|\n",
      "|            Register|    18|\n",
      "|     Add to Playlist|  6526|\n",
      "|          Add Friend|  4277|\n",
      "|            NextSong|228108|\n",
      "|           Thumbs Up| 12551|\n",
      "|                Help|  1726|\n",
      "|             Upgrade|   499|\n",
      "+--------------------+------+\n",
      "only showing top 20 rows\n",
      "\n"
     ]
    },
    {
     "data": {
      "text/plain": [
       "res6: Long = 8346\n"
      ]
     },
     "execution_count": 8,
     "metadata": {},
     "output_type": "execute_result"
    }
   ],
   "source": [
    "df.groupBy(\"page\").count().show()\n",
    "df.select(\"userid\").filter(\"registration is null\").count()"
   ]
  },
  {
   "cell_type": "markdown",
   "id": "61b5e5c8-d5c5-4738-8093-b8ee2bb190b8",
   "metadata": {},
   "source": [
    "### 상관관계 분석 ###"
   ]
  },
  {
   "cell_type": "markdown",
   "id": "8afa5dbd-0c62-4507-961f-8dd5d7d62b63",
   "metadata": {},
   "source": [
    " ```\n",
    " |-- artist: string (nullable = true)\n",
    " |-- auth: string (nullable = true)\n",
    " |-- firstName: string (nullable = true)\n",
    " |-- gender: string (nullable = true)\n",
    " |-- itemInSession: long (nullable = true)\n",
    " |-- lastName: string (nullable = true)\n",
    " |-- length: double (nullable = true)\n",
    " |-- level: string (nullable = true)\n",
    " |-- location: string (nullable = true)\n",
    " |-- method: string (nullable = true)\n",
    " |-- page: string (nullable = true)\n",
    " |-- registration: long (nullable = true)\n",
    " |-- sessionId: long (nullable = true)\n",
    " |-- song: string (nullable = true)\n",
    " |-- status: long (nullable = true)\n",
    " |-- ts: long (nullable = true)\n",
    " |-- userAgent: string (nullable = true)\n",
    " |-- userId: string (nullable = true)\n",
    " ```"
   ]
  },
  {
   "cell_type": "code",
   "execution_count": 9,
   "id": "2e6c4a1c-8bb0-492e-938f-889e432a9e9c",
   "metadata": {},
   "outputs": [
    {
     "data": {
      "text/plain": [
       "import org.apache.spark.ml.feature.VectorAssembler\n",
       "import org.apache.spark.ml.linalg.Vectors\n",
       "import org.apache.spark.ml.stat.Correlation\n"
      ]
     },
     "execution_count": 9,
     "metadata": {},
     "output_type": "execute_result"
    }
   ],
   "source": [
    "import org.apache.spark.ml.feature.VectorAssembler\n",
    "import org.apache.spark.ml.linalg.Vectors\n",
    "import org.apache.spark.ml.stat.Correlation\n",
    "\n",
    "/*\n",
    "val assembler = new VectorAssembler()\n",
    "  .setInputCols(Array(\"itemInSession\", \"registration\", \"sessionId\", \"status\", \"ts\"))\n",
    "  .setOutputCol(\"vectors\")\n",
    "\n",
    "val transformed = assembler.transform(df)\n",
    "val corr = Correlation.corr(transformed, \"vectors\").head\n",
    "println(s\"Pearson correlation matrix:\\n $corr\")\n",
    "*/"
   ]
  },
  {
   "cell_type": "markdown",
   "id": "87616368-4b1d-460e-8935-2e26f3aa8d20",
   "metadata": {},
   "source": [
    "### Temp View 생성 ###"
   ]
  },
  {
   "cell_type": "code",
   "execution_count": 10,
   "id": "3dc4953c-3f1f-426c-8919-3f2ae90f7c11",
   "metadata": {},
   "outputs": [
    {
     "name": "stdout",
     "output_type": "stream",
     "text": [
      "+------+-----------+--------+----------+--------+-------------------+--------------------+\n",
      "|userId|numSessions|numSongs|numArtists|playtime|         registDate| current_timestamp()|\n",
      "+------+-----------+--------+----------+--------+-------------------+--------------------+\n",
      "|100010|        381|     269|       252|   66940|2018-09-27 11:45:40|2023-02-05 10:03:...|\n",
      "|200002|        474|     378|       339|   94008|2018-09-07 06:38:26|2023-02-05 10:03:...|\n",
      "|   125|         11|       8|         8|    2089|2018-08-02 05:58:59|2023-02-05 10:03:...|\n",
      "|    51|       2464|    1854|      1385|  523275|2018-09-28 05:43:07|2023-02-05 10:03:...|\n",
      "|   124|       4825|    3339|      2232| 1012312|2018-07-22 10:52:15|2023-02-05 10:03:...|\n",
      "+------+-----------+--------+----------+--------+-------------------+--------------------+\n",
      "only showing top 5 rows\n",
      "\n"
     ]
    },
    {
     "data": {
      "text/plain": [
       "grpByUserId: org.apache.spark.sql.DataFrame = [userId: string, numSessions: bigint ... 5 more fields]\n"
      ]
     },
     "execution_count": 10,
     "metadata": {},
     "output_type": "execute_result"
    }
   ],
   "source": [
    "df.createOrReplaceTempView(\"event_data\")  // Temp View 생성\n",
    "\n",
    "val grpByUserId = spark.sql(\"\"\"\n",
    "            SELECT userId, \n",
    "                   count(sessionId) as numSessions, \n",
    "                   count(distinct song) as numSongs, \n",
    "                   count(distinct artist) as numArtists,\n",
    "                   floor(sum(length)) as playtime, \n",
    "                   from_unixtime(max(registration/1000)) as registDate,\n",
    "                   current_timestamp\n",
    "            FROM event_data\n",
    "            GROUP BY userId\n",
    "          \"\"\")\n",
    "grpByUserId.show(5)"
   ]
  },
  {
   "cell_type": "markdown",
   "id": "c07465e1-e4e8-4170-97a4-4d77e0f666ed",
   "metadata": {},
   "source": [
    "### EDA - Dealing with Missing Value (누락값 다루기) ###"
   ]
  },
  {
   "cell_type": "markdown",
   "id": "85759229-a4c7-45d4-9a79-6622052d1eb6",
   "metadata": {},
   "source": [
    "파이썬 인터트리터에서 scala 데이터 프레임을 읽기 위해, createOrReplaceTempView 로 임시테이블(event_data)을 만든다.  \n",
    "%%python 매직키워드를 사용하여 python 인터 프리터로 전환하고, seaborn 으로 hitmap 을 그린다."
   ]
  },
  {
   "cell_type": "code",
   "execution_count": 11,
   "id": "f6f132a0-f865-4704-9e06-aabff7a1d038",
   "metadata": {},
   "outputs": [],
   "source": [
    "%%python\n",
    "\n",
    "import matplotlib.pyplot as plt\n",
    "import seaborn as sns\n",
    "\n",
    "df = spark.sql(\"select * from event_data\")\n",
    "plt.figure(figsize=(18,6))\n",
    "sns.heatmap(df.toPandas().isnull(),cbar=False)\n",
    "plt.show()"
   ]
  },
  {
   "cell_type": "code",
   "execution_count": 12,
   "id": "05bb5dae-9814-407a-85ca-3b60e1e82377",
   "metadata": {},
   "outputs": [
    {
     "name": "stdout",
     "output_type": "stream",
     "text": [
      "+------+----------+---------+------+-------------+--------+------+-----+--------+------+-----+------------+---------+----+------+-------------+---------+------+\n",
      "|artist|      auth|firstName|gender|itemInSession|lastName|length|level|location|method| page|registration|sessionId|song|status|           ts|userAgent|userId|\n",
      "+------+----------+---------+------+-------------+--------+------+-----+--------+------+-----+------------+---------+----+------+-------------+---------+------+\n",
      "|  null|Logged Out|     null|  null|          100|    null|  null| free|    null|   GET| Home|        null|        8|null|   200|1538355745000|     null|      |\n",
      "|  null|Logged Out|     null|  null|          101|    null|  null| free|    null|   GET| Help|        null|        8|null|   200|1538355807000|     null|      |\n",
      "|  null|Logged Out|     null|  null|          102|    null|  null| free|    null|   GET| Home|        null|        8|null|   200|1538355841000|     null|      |\n",
      "|  null|Logged Out|     null|  null|          103|    null|  null| free|    null|   PUT|Login|        null|        8|null|   307|1538355842000|     null|      |\n",
      "|  null|Logged Out|     null|  null|            2|    null|  null| free|    null|   GET| Home|        null|      240|null|   200|1538356678000|     null|      |\n",
      "|  null|Logged Out|     null|  null|            3|    null|  null| free|    null|   PUT|Login|        null|      240|null|   307|1538356679000|     null|      |\n",
      "|  null|Logged Out|     null|  null|            0|    null|  null| free|    null|   PUT|Login|        null|      100|null|   307|1538358102000|     null|      |\n",
      "|  null|Logged Out|     null|  null|            0|    null|  null| free|    null|   PUT|Login|        null|      241|null|   307|1538360117000|     null|      |\n",
      "|  null|Logged Out|     null|  null|           14|    null|  null| free|    null|   GET| Home|        null|      187|null|   200|1538361527000|     null|      |\n",
      "|  null|Logged Out|     null|  null|           15|    null|  null| free|    null|   PUT|Login|        null|      187|null|   307|1538361528000|     null|      |\n",
      "+------+----------+---------+------+-------------+--------+------+-----+--------+------+-----+------------+---------+----+------+-------------+---------+------+\n",
      "only showing top 10 rows\n",
      "\n",
      "+------+----------+---------+------+-------------+--------+------+-----+--------+------+-----+------------+---------+----+------+-------------+---------+------+\n",
      "|artist|      auth|firstName|gender|itemInSession|lastName|length|level|location|method| page|registration|sessionId|song|status|           ts|userAgent|userId|\n",
      "+------+----------+---------+------+-------------+--------+------+-----+--------+------+-----+------------+---------+----+------+-------------+---------+------+\n",
      "|  null|Logged Out|     null|  null|          100|    null|  null| free|    null|   GET| Home|        null|        8|null|   200|1538355745000|     null|      |\n",
      "|  null|Logged Out|     null|  null|          101|    null|  null| free|    null|   GET| Help|        null|        8|null|   200|1538355807000|     null|      |\n",
      "|  null|Logged Out|     null|  null|          102|    null|  null| free|    null|   GET| Home|        null|        8|null|   200|1538355841000|     null|      |\n",
      "|  null|Logged Out|     null|  null|          103|    null|  null| free|    null|   PUT|Login|        null|        8|null|   307|1538355842000|     null|      |\n",
      "|  null|Logged Out|     null|  null|            2|    null|  null| free|    null|   GET| Home|        null|      240|null|   200|1538356678000|     null|      |\n",
      "|  null|Logged Out|     null|  null|            3|    null|  null| free|    null|   PUT|Login|        null|      240|null|   307|1538356679000|     null|      |\n",
      "|  null|Logged Out|     null|  null|            0|    null|  null| free|    null|   PUT|Login|        null|      100|null|   307|1538358102000|     null|      |\n",
      "|  null|Logged Out|     null|  null|            0|    null|  null| free|    null|   PUT|Login|        null|      241|null|   307|1538360117000|     null|      |\n",
      "|  null|Logged Out|     null|  null|           14|    null|  null| free|    null|   GET| Home|        null|      187|null|   200|1538361527000|     null|      |\n",
      "|  null|Logged Out|     null|  null|           15|    null|  null| free|    null|   PUT|Login|        null|      187|null|   307|1538361528000|     null|      |\n",
      "+------+----------+---------+------+-------------+--------+------+-----+--------+------+-----+------------+---------+----+------+-------------+---------+------+\n",
      "only showing top 10 rows\n",
      "\n"
     ]
    }
   ],
   "source": [
    "df.select(\"*\").filter(\"registration is null\").show(10)\n",
    "df.select(\"*\").filter(\"userId = ''\").show(10)"
   ]
  },
  {
   "cell_type": "code",
   "execution_count": 13,
   "id": "d0a2fe7d-1374-4467-930e-7a642c2c462a",
   "metadata": {},
   "outputs": [
    {
     "name": "stdout",
     "output_type": "stream",
     "text": [
      "+-------------------------+-----+\n",
      "|page                     |count|\n",
      "+-------------------------+-----+\n",
      "|Home                     |14457|\n",
      "|Thumbs Up                |12551|\n",
      "|Add to Playlist          |6526 |\n",
      "|Add Friend               |4277 |\n",
      "|Roll Advert              |3933 |\n",
      "|Login                    |3241 |\n",
      "|Logout                   |3226 |\n",
      "|Thumbs Down              |2546 |\n",
      "|Downgrade                |2055 |\n",
      "|Help                     |1726 |\n",
      "|Settings                 |1514 |\n",
      "|About                    |924  |\n",
      "|Upgrade                  |499  |\n",
      "|Save Settings            |310  |\n",
      "|Error                    |258  |\n",
      "|Submit Upgrade           |159  |\n",
      "|Submit Downgrade         |63   |\n",
      "|Cancel                   |52   |\n",
      "|Cancellation Confirmation|52   |\n",
      "|Register                 |18   |\n",
      "|Submit Registration      |5    |\n",
      "+-------------------------+-----+\n",
      "\n",
      "+--------+------+\n",
      "|page    |count |\n",
      "+--------+------+\n",
      "|NextSong|228108|\n",
      "+--------+------+\n",
      "\n"
     ]
    }
   ],
   "source": [
    "df.filter(df(\"artist\").isNull).select(\"page\") \n",
    "    .groupBy(\"page\").count\n",
    "    .orderBy($\"count\".desc)\n",
    "    .show(df.count.toInt, false)\n",
    "\n",
    "df.filter(df(\"artist\").isNotNull).select(\"page\") \n",
    "    .groupBy(\"page\").count\n",
    "    .orderBy($\"count\".desc)\n",
    "    .show(df.count.toInt, false)"
   ]
  },
  {
   "cell_type": "markdown",
   "id": "6b3ae1b1-e8c9-47db-8aea-5f98af1092df",
   "metadata": {},
   "source": [
    "## Feature Engineering ##\n",
    "\n",
    "데이테에 대한 경험과 도메인 지식을 기반으로 firstName, lastName, method 및 userAgent 칼럼은 모델링에 포함하지 않기로 한다.   \n",
    "보통 이런류의 피처는 예측에 영향을 주지 않는다. 또한 artist, location, song 및 status 역시 제외하도록 한다."
   ]
  },
  {
   "cell_type": "code",
   "execution_count": 14,
   "id": "42d54b8e-46cd-440f-9054-7e8c83488031",
   "metadata": {},
   "outputs": [
    {
     "name": "stdout",
     "output_type": "stream",
     "text": [
      "root\n",
      " |-- auth: string (nullable = true)\n",
      " |-- gender: string (nullable = true)\n",
      " |-- itemInSession: long (nullable = true)\n",
      " |-- length: double (nullable = true)\n",
      " |-- level: string (nullable = true)\n",
      " |-- page: string (nullable = true)\n",
      " |-- registration: long (nullable = true)\n",
      " |-- sessionId: long (nullable = true)\n",
      " |-- ts: long (nullable = true)\n",
      " |-- userId: string (nullable = true)\n",
      "\n",
      "+---------+------+-------------+---------+-----+---------------+-------------+---------+-------------+------+\n",
      "|     auth|gender|itemInSession|   length|level|           page| registration|sessionId|           ts|userId|\n",
      "+---------+------+-------------+---------+-----+---------------+-------------+---------+-------------+------+\n",
      "|Logged In|     M|           50|277.89016| paid|       NextSong|1538173362000|       29|1538352117000|    30|\n",
      "|Logged In|     M|           79|236.09424| free|       NextSong|1538331630000|        8|1538352180000|     9|\n",
      "|Logged In|     M|           51| 282.8273| paid|       NextSong|1538173362000|       29|1538352394000|    30|\n",
      "|Logged In|     M|           80|262.71302| free|       NextSong|1538331630000|        8|1538352416000|     9|\n",
      "|Logged In|     M|           52|223.60771| paid|       NextSong|1538173362000|       29|1538352676000|    30|\n",
      "|Logged In|     M|           81|208.29995| free|       NextSong|1538331630000|        8|1538352678000|     9|\n",
      "|Logged In|     M|           82|260.46649| free|       NextSong|1538331630000|        8|1538352886000|     9|\n",
      "|Logged In|     M|           53|185.44281| paid|       NextSong|1538173362000|       29|1538352899000|    30|\n",
      "|Logged In|     M|           54|     null| paid|Add to Playlist|1538173362000|       29|1538352905000|    30|\n",
      "|Logged In|     M|           55|134.47791| paid|       NextSong|1538173362000|       29|1538353084000|    30|\n",
      "|Logged In|     M|           83| 229.8771| free|       NextSong|1538331630000|        8|1538353146000|     9|\n",
      "|Logged In|     M|           84|     null| free|    Roll Advert|1538331630000|        8|1538353150000|     9|\n",
      "|Logged In|     M|           56|223.58159| paid|       NextSong|1538173362000|       29|1538353218000|    30|\n",
      "|Logged In|     M|           85|201.06404| free|       NextSong|1538331630000|        8|1538353375000|     9|\n",
      "|Logged In|     M|           86|     null| free|      Thumbs Up|1538331630000|        8|1538353376000|     9|\n",
      "|Logged In|     M|           57|246.69995| paid|       NextSong|1538173362000|       29|1538353441000|    30|\n",
      "|Logged In|     M|           87|168.64608| free|       NextSong|1538331630000|        8|1538353576000|     9|\n",
      "|Logged In|     F|            0| 166.1122| free|       NextSong|1537365219000|      217|1538353668000|    74|\n",
      "|Logged In|     M|           58|222.22322| paid|       NextSong|1538173362000|       29|1538353687000|    30|\n",
      "|Logged In|     M|           88|229.77261| free|       NextSong|1538331630000|        8|1538353744000|     9|\n",
      "+---------+------+-------------+---------+-----+---------------+-------------+---------+-------------+------+\n",
      "only showing top 20 rows\n",
      "\n"
     ]
    },
    {
     "data": {
      "text/plain": [
       "drop_df: org.apache.spark.sql.DataFrame = [auth: string, gender: string ... 8 more fields]\n"
      ]
     },
     "execution_count": 14,
     "metadata": {},
     "output_type": "execute_result"
    }
   ],
   "source": [
    "val drop_df = df.drop(\"firstName\", \"lastName\", \"method\", \"userAgent\", \"artist\", \"location\", \"song\", \"status\")\n",
    "drop_df.printSchema()\n",
    "drop_df.show()"
   ]
  },
  {
   "cell_type": "markdown",
   "id": "3b44467f-bea6-4b6f-b78e-c7425aa324b7",
   "metadata": {},
   "source": [
    "### 1. Define Churned User(이탈 사용자 정의) ###\n",
    "Churned User 는 1 대 3 정도의 비율을 가지고 있는 것을 알 수 있다. (52명이 탈퇴함)"
   ]
  },
  {
   "cell_type": "code",
   "execution_count": 15,
   "id": "6a575e52-43c1-419d-8262-189a07026d58",
   "metadata": {},
   "outputs": [
    {
     "name": "stdout",
     "output_type": "stream",
     "text": [
      "+---------+------+-------------+---------+-----+---------------+-------------+---------+-------------+------+-----+\n",
      "|     auth|gender|itemInSession|   length|level|           page| registration|sessionId|           ts|userId|churn|\n",
      "+---------+------+-------------+---------+-----+---------------+-------------+---------+-------------+------+-----+\n",
      "|Logged In|     M|           50|277.89016| paid|       NextSong|1538173362000|       29|1538352117000|    30|    0|\n",
      "|Logged In|     M|           79|236.09424| free|       NextSong|1538331630000|        8|1538352180000|     9|    0|\n",
      "|Logged In|     M|           51| 282.8273| paid|       NextSong|1538173362000|       29|1538352394000|    30|    0|\n",
      "|Logged In|     M|           80|262.71302| free|       NextSong|1538331630000|        8|1538352416000|     9|    0|\n",
      "|Logged In|     M|           52|223.60771| paid|       NextSong|1538173362000|       29|1538352676000|    30|    0|\n",
      "|Logged In|     M|           81|208.29995| free|       NextSong|1538331630000|        8|1538352678000|     9|    0|\n",
      "|Logged In|     M|           82|260.46649| free|       NextSong|1538331630000|        8|1538352886000|     9|    0|\n",
      "|Logged In|     M|           53|185.44281| paid|       NextSong|1538173362000|       29|1538352899000|    30|    0|\n",
      "|Logged In|     M|           54|     null| paid|Add to Playlist|1538173362000|       29|1538352905000|    30|    0|\n",
      "|Logged In|     M|           55|134.47791| paid|       NextSong|1538173362000|       29|1538353084000|    30|    0|\n",
      "+---------+------+-------------+---------+-----+---------------+-------------+---------+-------------+------+-----+\n",
      "only showing top 10 rows\n",
      "\n"
     ]
    },
    {
     "data": {
      "text/plain": [
       "import org.apache.spark.sql.functions.udf\n",
       "func: org.apache.spark.sql.expressions.UserDefinedFunction = SparkUserDefinedFunction($Lambda$4798/0x000000080197a840@7e8d11d6,IntegerType,List(Some(class[value[0]: string])),Some(class[value[0]: int]),None,false,true)\n",
       "churn_df: org.apache.spark.sql.DataFrame = [auth: string, gender: string ... 9 more fields]\n"
      ]
     },
     "execution_count": 15,
     "metadata": {},
     "output_type": "execute_result"
    }
   ],
   "source": [
    "import org.apache.spark.sql.functions.udf\n",
    "val func = udf((s:String) => if(s == \"Cancellation Confirmation\") 1 else 0)\n",
    "\n",
    "val churn_df = drop_df.withColumn(\"churn\", func($\"page\"))\n",
    "churn_df.show(10)"
   ]
  },
  {
   "cell_type": "code",
   "execution_count": 16,
   "id": "def99618-3824-47de-a0ce-4a0588b75f85",
   "metadata": {},
   "outputs": [
    {
     "name": "stdout",
     "output_type": "stream",
     "text": [
      "+------------+-----+\n",
      "|churned_user|count|\n",
      "+------------+-----+\n",
      "|           0|  173|\n",
      "|           1|   52|\n",
      "+------------+-----+\n",
      "\n"
     ]
    },
    {
     "data": {
      "text/plain": [
       "import org.apache.spark.sql.expressions.Window\n",
       "w1: org.apache.spark.sql.expressions.WindowSpec = org.apache.spark.sql.expressions.WindowSpec@2a5eb2ea\n",
       "user_df: org.apache.spark.sql.DataFrame = [userId: string, gender: string ... 2 more fields]\n",
       "user_df: org.apache.spark.sql.DataFrame = [userId: string, gender: string ... 2 more fields]\n"
      ]
     },
     "execution_count": 16,
     "metadata": {},
     "output_type": "execute_result"
    }
   ],
   "source": [
    "import org.apache.spark.sql.expressions.Window\n",
    "\n",
    "val w1 = Window.partitionBy(\"userId\")\n",
    "var user_df = churn_df.select(\"userId\", \"churn\", \"gender\", \"level\")\n",
    "                    .withColumn(\"churned_user\", sum(\"churn\").over(w1))\n",
    "                    .dropDuplicates(\"userId\")\n",
    "                    .drop(\"churn\")\n",
    "\n",
    "user_df = user_df.na.drop(Seq(\"userId\", \"gender\", \"level\"))\n",
    "user_df.groupBy(\"churned_user\").count().show()"
   ]
  },
  {
   "cell_type": "code",
   "execution_count": 17,
   "id": "9dc81688-537b-4376-8eb7-a6a506012bac",
   "metadata": {},
   "outputs": [
    {
     "name": "stdout",
     "output_type": "stream",
     "text": [
      "+------+-----+\n",
      "|userId|count|\n",
      "+------+-----+\n",
      "|100010|  381|\n",
      "|200002|  474|\n",
      "|   125|   11|\n",
      "|    51| 2464|\n",
      "|   124| 4825|\n",
      "|     7|  201|\n",
      "|    54| 3437|\n",
      "|    15| 2278|\n",
      "|   155| 1002|\n",
      "|   132| 2304|\n",
      "|   154|  118|\n",
      "|100014|  310|\n",
      "|   101| 2149|\n",
      "|    11|  848|\n",
      "|   138| 2469|\n",
      "|300017| 4428|\n",
      "|    29| 3603|\n",
      "|    69| 1342|\n",
      "|100021|  319|\n",
      "|    42| 4257|\n",
      "+------+-----+\n",
      "only showing top 20 rows\n",
      "\n",
      "+---------+------+-------------+---------+-----+-------------------------+-------------+---------+-------------+------+-----+\n",
      "|auth     |gender|itemInSession|length   |level|page                     |registration |sessionId|ts           |userId|churn|\n",
      "+---------+------+-------------+---------+-----+-------------------------+-------------+---------+-------------+------+-----+\n",
      "|Logged In|M     |0            |337.91955|free |NextSong                 |1533157139000|174      |1539317144000|125   |0    |\n",
      "|Logged In|M     |1            |230.03383|free |NextSong                 |1533157139000|174      |1539317481000|125   |0    |\n",
      "|Logged In|M     |2            |203.2322 |free |NextSong                 |1533157139000|174      |1539317711000|125   |0    |\n",
      "|Logged In|M     |3            |210.83383|free |NextSong                 |1533157139000|174      |1539317914000|125   |0    |\n",
      "|Logged In|M     |4            |391.26159|free |NextSong                 |1533157139000|174      |1539318124000|125   |0    |\n",
      "|Logged In|M     |5            |213.60281|free |NextSong                 |1533157139000|174      |1539318515000|125   |0    |\n",
      "|Logged In|M     |6            |178.41587|free |NextSong                 |1533157139000|174      |1539318728000|125   |0    |\n",
      "|Logged In|M     |7            |323.81342|free |NextSong                 |1533157139000|174      |1539318906000|125   |0    |\n",
      "|Logged In|M     |8            |null     |free |Roll Advert              |1533157139000|174      |1539318917000|125   |0    |\n",
      "|Logged In|M     |9            |null     |free |Cancel                   |1533157139000|174      |1539318918000|125   |0    |\n",
      "|Cancelled|M     |10           |null     |free |Cancellation Confirmation|1533157139000|174      |1539318918000|125   |1    |\n",
      "+---------+------+-------------+---------+-----+-------------------------+-------------+---------+-------------+------+-----+\n",
      "\n"
     ]
    }
   ],
   "source": [
    "churn_df.groupBy(\"userId\").count.show()\n",
    "churn_df.filter(\"userId == 125\").show(100, false)"
   ]
  },
  {
   "cell_type": "markdown",
   "id": "d23d9a1f-8e19-422e-bfc0-b8c83a76eeef",
   "metadata": {},
   "source": [
    "### 2. 범주형 피처 인코딩 ###\n",
    "범주형 피처의 경우 먼저 레이블 인코딩이 필요합니다(단순히 각 값을 숫자로 변환). 기계 학습 모델에 따라 이러한 숫자를 더미 변수(예: 원-핫 인코딩)로 추가 인코딩해야 할 수도 있습니다.  \n",
    "Spark에서 StringIndexer는 레이블 인코딩 부분을 수행합니다."
   ]
  },
  {
   "cell_type": "code",
   "execution_count": 18,
   "id": "c4fee2fa-b5fc-40a3-abdd-181b890ff32d",
   "metadata": {},
   "outputs": [
    {
     "name": "stdout",
     "output_type": "stream",
     "text": [
      "+------+------+-----+------------+-----------+----------+\n",
      "|userId|gender|level|churned_user|genderIndex|levelIndex|\n",
      "+------+------+-----+------------+-----------+----------+\n",
      "|    10|     M| paid|           0|        0.0|       1.0|\n",
      "|   100|     M| paid|           0|        0.0|       1.0|\n",
      "|100001|     F| free|           1|        1.0|       0.0|\n",
      "|100002|     F| paid|           0|        1.0|       1.0|\n",
      "|100003|     F| free|           1|        1.0|       0.0|\n",
      "|100004|     F| free|           0|        1.0|       0.0|\n",
      "|100005|     M| free|           1|        0.0|       0.0|\n",
      "|100006|     F| free|           1|        1.0|       0.0|\n",
      "|100007|     F| paid|           1|        1.0|       1.0|\n",
      "|100008|     F| paid|           0|        1.0|       1.0|\n",
      "+------+------+-----+------------+-----------+----------+\n",
      "only showing top 10 rows\n",
      "\n"
     ]
    },
    {
     "data": {
      "text/plain": [
       "import org.apache.spark.ml.feature.{OneHotEncoder, StringIndexer}\n",
       "indexer: org.apache.spark.ml.feature.StringIndexer = strIdx_cfcae064bc81\n",
       "user_df_le: org.apache.spark.sql.DataFrame = [userId: string, gender: string ... 4 more fields]\n"
      ]
     },
     "execution_count": 18,
     "metadata": {},
     "output_type": "execute_result"
    }
   ],
   "source": [
    "import org.apache.spark.ml.feature.{OneHotEncoder, StringIndexer}\n",
    "\n",
    "val indexer = new StringIndexer()\n",
    "    .setInputCols(List(\"gender\", \"level\").toArray)\n",
    "    .setOutputCols(List(\"genderIndex\", \"levelIndex\").toArray)\n",
    "val user_df_le = indexer.fit(user_df).transform(user_df)\n",
    "\n",
    "user_df_le.show(10)"
   ]
  },
  {
   "cell_type": "code",
   "execution_count": 19,
   "id": "2b9da89a-a054-424b-bf84-d386aed0ce59",
   "metadata": {},
   "outputs": [
    {
     "name": "stdout",
     "output_type": "stream",
     "text": [
      "+-----------+-------------------+\n",
      "|genderIndex|  avg(churned_user)|\n",
      "+-----------+-------------------+\n",
      "|        0.0| 0.2644628099173554|\n",
      "|        1.0|0.19230769230769232|\n",
      "+-----------+-------------------+\n",
      "\n",
      "+------------+-------------------+\n",
      "|churned_user|    avg(levelIndex)|\n",
      "+------------+-------------------+\n",
      "|           0|0.23121387283236994|\n",
      "|           1|0.15384615384615385|\n",
      "+------------+-------------------+\n",
      "\n"
     ]
    }
   ],
   "source": [
    "user_df_le.groupBy(\"genderIndex\").avg(\"churned_user\").show()\n",
    "user_df_le.groupBy(\"churned_user\").avg(\"levelIndex\").show()"
   ]
  },
  {
   "cell_type": "markdown",
   "id": "20fc2296-0142-4ddb-811c-0148c8999ca6",
   "metadata": {},
   "source": [
    "gender 와 level 피처에 대해 원핫 인코딩을 적용한다."
   ]
  },
  {
   "cell_type": "code",
   "execution_count": 20,
   "id": "46a5960e-4d83-4b8d-9b8e-2ad8429e3fe9",
   "metadata": {},
   "outputs": [
    {
     "name": "stdout",
     "output_type": "stream",
     "text": [
      "+------+------+-----+------------+-----------+----------+-------------+-------------+\n",
      "|userId|gender|level|churned_user|genderIndex|levelIndex|    genderVec|     levelVec|\n",
      "+------+------+-----+------------+-----------+----------+-------------+-------------+\n",
      "|    10|     M| paid|           0|        0.0|       1.0|(1,[0],[1.0])|    (1,[],[])|\n",
      "|   100|     M| paid|           0|        0.0|       1.0|(1,[0],[1.0])|    (1,[],[])|\n",
      "|100001|     F| free|           1|        1.0|       0.0|    (1,[],[])|(1,[0],[1.0])|\n",
      "|100002|     F| paid|           0|        1.0|       1.0|    (1,[],[])|    (1,[],[])|\n",
      "|100003|     F| free|           1|        1.0|       0.0|    (1,[],[])|(1,[0],[1.0])|\n",
      "|100004|     F| free|           0|        1.0|       0.0|    (1,[],[])|(1,[0],[1.0])|\n",
      "|100005|     M| free|           1|        0.0|       0.0|(1,[0],[1.0])|(1,[0],[1.0])|\n",
      "|100006|     F| free|           1|        1.0|       0.0|    (1,[],[])|(1,[0],[1.0])|\n",
      "|100007|     F| paid|           1|        1.0|       1.0|    (1,[],[])|    (1,[],[])|\n",
      "|100008|     F| paid|           0|        1.0|       1.0|    (1,[],[])|    (1,[],[])|\n",
      "|100009|     M| free|           1|        0.0|       0.0|(1,[0],[1.0])|(1,[0],[1.0])|\n",
      "|100010|     F| free|           0|        1.0|       0.0|    (1,[],[])|(1,[0],[1.0])|\n",
      "|100011|     M| free|           1|        0.0|       0.0|(1,[0],[1.0])|(1,[0],[1.0])|\n",
      "|100012|     M| free|           1|        0.0|       0.0|(1,[0],[1.0])|(1,[0],[1.0])|\n",
      "|100013|     F| free|           1|        1.0|       0.0|    (1,[],[])|(1,[0],[1.0])|\n",
      "|100014|     M| paid|           1|        0.0|       1.0|(1,[0],[1.0])|    (1,[],[])|\n",
      "|100015|     F| free|           1|        1.0|       0.0|    (1,[],[])|(1,[0],[1.0])|\n",
      "|100016|     M| paid|           0|        0.0|       1.0|(1,[0],[1.0])|    (1,[],[])|\n",
      "|100017|     M| free|           1|        0.0|       0.0|(1,[0],[1.0])|(1,[0],[1.0])|\n",
      "|100018|     M| free|           0|        0.0|       0.0|(1,[0],[1.0])|(1,[0],[1.0])|\n",
      "+------+------+-----+------------+-----------+----------+-------------+-------------+\n",
      "only showing top 20 rows\n",
      "\n"
     ]
    },
    {
     "data": {
      "text/plain": [
       "encoder: org.apache.spark.ml.feature.OneHotEncoder = oneHotEncoder_cb61fb3f2a83\n",
       "user_df_oh: org.apache.spark.sql.DataFrame = [userId: string, gender: string ... 6 more fields]\n"
      ]
     },
     "execution_count": 20,
     "metadata": {},
     "output_type": "execute_result"
    }
   ],
   "source": [
    "var encoder = new OneHotEncoder()\n",
    "      .setInputCols(List(\"genderIndex\", \"levelIndex\").toArray)\n",
    "      .setOutputCols(List(\"genderVec\", \"levelVec\").toArray)\n",
    "\n",
    "val user_df_oh = encoder.fit(user_df_le).transform(user_df_le)\n",
    "user_df_oh.show()"
   ]
  }
 ],
 "metadata": {
  "kernelspec": {
   "display_name": "spylon-kernel",
   "language": "scala",
   "name": "spylon-kernel"
  },
  "language_info": {
   "codemirror_mode": "text/x-scala",
   "file_extension": ".scala",
   "help_links": [
    {
     "text": "MetaKernel Magics",
     "url": "https://metakernel.readthedocs.io/en/latest/source/README.html"
    }
   ],
   "mimetype": "text/x-scala",
   "name": "scala",
   "pygments_lexer": "scala",
   "version": "0.4.1"
  }
 },
 "nbformat": 4,
 "nbformat_minor": 5
}
